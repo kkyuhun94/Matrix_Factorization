{
 "cells": [
  {
   "cell_type": "code",
   "execution_count": 2,
   "metadata": {},
   "outputs": [],
   "source": [
    "import numpy as np\n",
    "import pandas as pd\n",
    "\n",
    "import math\n",
    "from datetime import datetime"
   ]
  },
  {
   "cell_type": "markdown",
   "metadata": {},
   "source": [
    "1. Matrix Factorization을 통해서 영화 시청 이력을 기반으로 평점 예측을 해야함\n",
    "2. 사용해야할 데이터셋 : movies(movieId,genre) / ratings(userId,movieId,rating,timestamp)\n",
    "3. 학습 데이터: timestamp >= 1104505203 ~ timestamp <= 1230735592\n",
    "4. 평가 데이터: timestamp >= 1230735600 이후\n",
    "\n",
    "1. ratings 데이터를 트레이닝 셋과 테스트셋으로 나눔 \n",
    "2. movieId-userId matrix를 생성\n",
    "3. matrix factorization(SVD)으로 행렬을 분해 (유저벡터) x (영화벡터)로 나눠야함\n",
    "4. 다시 복원하면 0들에 값이 채워져있음. 그게 예상하는 값인가? 그 뒤로 어케되는지 전혀 모르겠음 \n",
    "\n"
   ]
  },
  {
   "cell_type": "markdown",
   "metadata": {},
   "source": [
    "## load data"
   ]
  },
  {
   "cell_type": "code",
   "execution_count": 3,
   "metadata": {},
   "outputs": [],
   "source": [
    "# data load\n",
    "df_ratings = pd.read_csv(\"../data/ratings.csv\")\n",
    "df_movies = pd.read_csv(\"../data/movies.csv\") "
   ]
  },
  {
   "cell_type": "code",
   "execution_count": 4,
   "metadata": {},
   "outputs": [],
   "source": [
    "# train_test_split\n",
    "df_all = df_ratings.copy()\n",
    "df_train = df_all[df_all[\"timestamp\"] >= 1104505203]\n",
    "df_train = df_train[df_train[\"timestamp\"] <= 1230735592]\n",
    "df_test = df_all[df_all[\"timestamp\"] >= 1230735600]"
   ]
  },
  {
   "cell_type": "code",
   "execution_count": 5,
   "metadata": {
    "scrolled": false
   },
   "outputs": [
    {
     "data": {
      "text/html": [
       "<div>\n",
       "<style scoped>\n",
       "    .dataframe tbody tr th:only-of-type {\n",
       "        vertical-align: middle;\n",
       "    }\n",
       "\n",
       "    .dataframe tbody tr th {\n",
       "        vertical-align: top;\n",
       "    }\n",
       "\n",
       "    .dataframe thead th {\n",
       "        text-align: right;\n",
       "    }\n",
       "</style>\n",
       "<table border=\"1\" class=\"dataframe\">\n",
       "  <thead>\n",
       "    <tr style=\"text-align: right;\">\n",
       "      <th></th>\n",
       "      <th>userId</th>\n",
       "      <th>movieId</th>\n",
       "      <th>rating</th>\n",
       "      <th>timestamp</th>\n",
       "    </tr>\n",
       "  </thead>\n",
       "  <tbody>\n",
       "    <tr>\n",
       "      <th>0</th>\n",
       "      <td>1</td>\n",
       "      <td>296</td>\n",
       "      <td>5.0</td>\n",
       "      <td>1147880044</td>\n",
       "    </tr>\n",
       "    <tr>\n",
       "      <th>1</th>\n",
       "      <td>1</td>\n",
       "      <td>306</td>\n",
       "      <td>3.5</td>\n",
       "      <td>1147868817</td>\n",
       "    </tr>\n",
       "    <tr>\n",
       "      <th>2</th>\n",
       "      <td>1</td>\n",
       "      <td>307</td>\n",
       "      <td>5.0</td>\n",
       "      <td>1147868828</td>\n",
       "    </tr>\n",
       "    <tr>\n",
       "      <th>3</th>\n",
       "      <td>1</td>\n",
       "      <td>665</td>\n",
       "      <td>5.0</td>\n",
       "      <td>1147878820</td>\n",
       "    </tr>\n",
       "    <tr>\n",
       "      <th>4</th>\n",
       "      <td>1</td>\n",
       "      <td>899</td>\n",
       "      <td>3.5</td>\n",
       "      <td>1147868510</td>\n",
       "    </tr>\n",
       "  </tbody>\n",
       "</table>\n",
       "</div>"
      ],
      "text/plain": [
       "   userId  movieId  rating   timestamp\n",
       "0       1      296     5.0  1147880044\n",
       "1       1      306     3.5  1147868817\n",
       "2       1      307     5.0  1147868828\n",
       "3       1      665     5.0  1147878820\n",
       "4       1      899     3.5  1147868510"
      ]
     },
     "execution_count": 5,
     "metadata": {},
     "output_type": "execute_result"
    }
   ],
   "source": [
    "df_train.head()"
   ]
  },
  {
   "cell_type": "markdown",
   "metadata": {},
   "source": [
    "### bias"
   ]
  },
  {
   "cell_type": "code",
   "execution_count": 11,
   "metadata": {},
   "outputs": [],
   "source": [
    "# movie preprocessing\n",
    "df_movies['genres'] = df_movies['genres'].apply(lambda x : x.split(\"|\"))\n",
    "from sklearn.preprocessing import MultiLabelBinarizer\n",
    "mlb = MultiLabelBinarizer()\n",
    "df_genre = df_movies.join(pd.DataFrame(mlb.fit_transform(df_movies.pop('genres')),\n",
    "                         columns = mlb.classes_,\n",
    "                         index = df_movies.index))"
   ]
  },
  {
   "cell_type": "code",
   "execution_count": 13,
   "metadata": {
    "scrolled": true
   },
   "outputs": [
    {
     "data": {
      "text/html": [
       "<div>\n",
       "<style scoped>\n",
       "    .dataframe tbody tr th:only-of-type {\n",
       "        vertical-align: middle;\n",
       "    }\n",
       "\n",
       "    .dataframe tbody tr th {\n",
       "        vertical-align: top;\n",
       "    }\n",
       "\n",
       "    .dataframe thead th {\n",
       "        text-align: right;\n",
       "    }\n",
       "</style>\n",
       "<table border=\"1\" class=\"dataframe\">\n",
       "  <thead>\n",
       "    <tr style=\"text-align: right;\">\n",
       "      <th></th>\n",
       "      <th>movieId</th>\n",
       "      <th>title</th>\n",
       "      <th>(no genres listed)</th>\n",
       "      <th>Action</th>\n",
       "      <th>Adventure</th>\n",
       "      <th>Animation</th>\n",
       "      <th>Children</th>\n",
       "      <th>Comedy</th>\n",
       "      <th>Crime</th>\n",
       "      <th>Documentary</th>\n",
       "      <th>...</th>\n",
       "      <th>Film-Noir</th>\n",
       "      <th>Horror</th>\n",
       "      <th>IMAX</th>\n",
       "      <th>Musical</th>\n",
       "      <th>Mystery</th>\n",
       "      <th>Romance</th>\n",
       "      <th>Sci-Fi</th>\n",
       "      <th>Thriller</th>\n",
       "      <th>War</th>\n",
       "      <th>Western</th>\n",
       "    </tr>\n",
       "  </thead>\n",
       "  <tbody>\n",
       "    <tr>\n",
       "      <th>0</th>\n",
       "      <td>1</td>\n",
       "      <td>Toy Story (1995)</td>\n",
       "      <td>0</td>\n",
       "      <td>0</td>\n",
       "      <td>1</td>\n",
       "      <td>1</td>\n",
       "      <td>1</td>\n",
       "      <td>1</td>\n",
       "      <td>0</td>\n",
       "      <td>0</td>\n",
       "      <td>...</td>\n",
       "      <td>0</td>\n",
       "      <td>0</td>\n",
       "      <td>0</td>\n",
       "      <td>0</td>\n",
       "      <td>0</td>\n",
       "      <td>0</td>\n",
       "      <td>0</td>\n",
       "      <td>0</td>\n",
       "      <td>0</td>\n",
       "      <td>0</td>\n",
       "    </tr>\n",
       "    <tr>\n",
       "      <th>1</th>\n",
       "      <td>2</td>\n",
       "      <td>Jumanji (1995)</td>\n",
       "      <td>0</td>\n",
       "      <td>0</td>\n",
       "      <td>1</td>\n",
       "      <td>0</td>\n",
       "      <td>1</td>\n",
       "      <td>0</td>\n",
       "      <td>0</td>\n",
       "      <td>0</td>\n",
       "      <td>...</td>\n",
       "      <td>0</td>\n",
       "      <td>0</td>\n",
       "      <td>0</td>\n",
       "      <td>0</td>\n",
       "      <td>0</td>\n",
       "      <td>0</td>\n",
       "      <td>0</td>\n",
       "      <td>0</td>\n",
       "      <td>0</td>\n",
       "      <td>0</td>\n",
       "    </tr>\n",
       "    <tr>\n",
       "      <th>2</th>\n",
       "      <td>3</td>\n",
       "      <td>Grumpier Old Men (1995)</td>\n",
       "      <td>0</td>\n",
       "      <td>0</td>\n",
       "      <td>0</td>\n",
       "      <td>0</td>\n",
       "      <td>0</td>\n",
       "      <td>1</td>\n",
       "      <td>0</td>\n",
       "      <td>0</td>\n",
       "      <td>...</td>\n",
       "      <td>0</td>\n",
       "      <td>0</td>\n",
       "      <td>0</td>\n",
       "      <td>0</td>\n",
       "      <td>0</td>\n",
       "      <td>1</td>\n",
       "      <td>0</td>\n",
       "      <td>0</td>\n",
       "      <td>0</td>\n",
       "      <td>0</td>\n",
       "    </tr>\n",
       "    <tr>\n",
       "      <th>3</th>\n",
       "      <td>4</td>\n",
       "      <td>Waiting to Exhale (1995)</td>\n",
       "      <td>0</td>\n",
       "      <td>0</td>\n",
       "      <td>0</td>\n",
       "      <td>0</td>\n",
       "      <td>0</td>\n",
       "      <td>1</td>\n",
       "      <td>0</td>\n",
       "      <td>0</td>\n",
       "      <td>...</td>\n",
       "      <td>0</td>\n",
       "      <td>0</td>\n",
       "      <td>0</td>\n",
       "      <td>0</td>\n",
       "      <td>0</td>\n",
       "      <td>1</td>\n",
       "      <td>0</td>\n",
       "      <td>0</td>\n",
       "      <td>0</td>\n",
       "      <td>0</td>\n",
       "    </tr>\n",
       "    <tr>\n",
       "      <th>4</th>\n",
       "      <td>5</td>\n",
       "      <td>Father of the Bride Part II (1995)</td>\n",
       "      <td>0</td>\n",
       "      <td>0</td>\n",
       "      <td>0</td>\n",
       "      <td>0</td>\n",
       "      <td>0</td>\n",
       "      <td>1</td>\n",
       "      <td>0</td>\n",
       "      <td>0</td>\n",
       "      <td>...</td>\n",
       "      <td>0</td>\n",
       "      <td>0</td>\n",
       "      <td>0</td>\n",
       "      <td>0</td>\n",
       "      <td>0</td>\n",
       "      <td>0</td>\n",
       "      <td>0</td>\n",
       "      <td>0</td>\n",
       "      <td>0</td>\n",
       "      <td>0</td>\n",
       "    </tr>\n",
       "    <tr>\n",
       "      <th>...</th>\n",
       "      <td>...</td>\n",
       "      <td>...</td>\n",
       "      <td>...</td>\n",
       "      <td>...</td>\n",
       "      <td>...</td>\n",
       "      <td>...</td>\n",
       "      <td>...</td>\n",
       "      <td>...</td>\n",
       "      <td>...</td>\n",
       "      <td>...</td>\n",
       "      <td>...</td>\n",
       "      <td>...</td>\n",
       "      <td>...</td>\n",
       "      <td>...</td>\n",
       "      <td>...</td>\n",
       "      <td>...</td>\n",
       "      <td>...</td>\n",
       "      <td>...</td>\n",
       "      <td>...</td>\n",
       "      <td>...</td>\n",
       "      <td>...</td>\n",
       "    </tr>\n",
       "    <tr>\n",
       "      <th>62418</th>\n",
       "      <td>209157</td>\n",
       "      <td>We (2018)</td>\n",
       "      <td>0</td>\n",
       "      <td>0</td>\n",
       "      <td>0</td>\n",
       "      <td>0</td>\n",
       "      <td>0</td>\n",
       "      <td>0</td>\n",
       "      <td>0</td>\n",
       "      <td>0</td>\n",
       "      <td>...</td>\n",
       "      <td>0</td>\n",
       "      <td>0</td>\n",
       "      <td>0</td>\n",
       "      <td>0</td>\n",
       "      <td>0</td>\n",
       "      <td>0</td>\n",
       "      <td>0</td>\n",
       "      <td>0</td>\n",
       "      <td>0</td>\n",
       "      <td>0</td>\n",
       "    </tr>\n",
       "    <tr>\n",
       "      <th>62419</th>\n",
       "      <td>209159</td>\n",
       "      <td>Window of the Soul (2001)</td>\n",
       "      <td>0</td>\n",
       "      <td>0</td>\n",
       "      <td>0</td>\n",
       "      <td>0</td>\n",
       "      <td>0</td>\n",
       "      <td>0</td>\n",
       "      <td>0</td>\n",
       "      <td>1</td>\n",
       "      <td>...</td>\n",
       "      <td>0</td>\n",
       "      <td>0</td>\n",
       "      <td>0</td>\n",
       "      <td>0</td>\n",
       "      <td>0</td>\n",
       "      <td>0</td>\n",
       "      <td>0</td>\n",
       "      <td>0</td>\n",
       "      <td>0</td>\n",
       "      <td>0</td>\n",
       "    </tr>\n",
       "    <tr>\n",
       "      <th>62420</th>\n",
       "      <td>209163</td>\n",
       "      <td>Bad Poems (2018)</td>\n",
       "      <td>0</td>\n",
       "      <td>0</td>\n",
       "      <td>0</td>\n",
       "      <td>0</td>\n",
       "      <td>0</td>\n",
       "      <td>1</td>\n",
       "      <td>0</td>\n",
       "      <td>0</td>\n",
       "      <td>...</td>\n",
       "      <td>0</td>\n",
       "      <td>0</td>\n",
       "      <td>0</td>\n",
       "      <td>0</td>\n",
       "      <td>0</td>\n",
       "      <td>0</td>\n",
       "      <td>0</td>\n",
       "      <td>0</td>\n",
       "      <td>0</td>\n",
       "      <td>0</td>\n",
       "    </tr>\n",
       "    <tr>\n",
       "      <th>62421</th>\n",
       "      <td>209169</td>\n",
       "      <td>A Girl Thing (2001)</td>\n",
       "      <td>1</td>\n",
       "      <td>0</td>\n",
       "      <td>0</td>\n",
       "      <td>0</td>\n",
       "      <td>0</td>\n",
       "      <td>0</td>\n",
       "      <td>0</td>\n",
       "      <td>0</td>\n",
       "      <td>...</td>\n",
       "      <td>0</td>\n",
       "      <td>0</td>\n",
       "      <td>0</td>\n",
       "      <td>0</td>\n",
       "      <td>0</td>\n",
       "      <td>0</td>\n",
       "      <td>0</td>\n",
       "      <td>0</td>\n",
       "      <td>0</td>\n",
       "      <td>0</td>\n",
       "    </tr>\n",
       "    <tr>\n",
       "      <th>62422</th>\n",
       "      <td>209171</td>\n",
       "      <td>Women of Devil's Island (1962)</td>\n",
       "      <td>0</td>\n",
       "      <td>1</td>\n",
       "      <td>1</td>\n",
       "      <td>0</td>\n",
       "      <td>0</td>\n",
       "      <td>0</td>\n",
       "      <td>0</td>\n",
       "      <td>0</td>\n",
       "      <td>...</td>\n",
       "      <td>0</td>\n",
       "      <td>0</td>\n",
       "      <td>0</td>\n",
       "      <td>0</td>\n",
       "      <td>0</td>\n",
       "      <td>0</td>\n",
       "      <td>0</td>\n",
       "      <td>0</td>\n",
       "      <td>0</td>\n",
       "      <td>0</td>\n",
       "    </tr>\n",
       "  </tbody>\n",
       "</table>\n",
       "<p>62423 rows × 22 columns</p>\n",
       "</div>"
      ],
      "text/plain": [
       "       movieId                               title  (no genres listed)  \\\n",
       "0            1                    Toy Story (1995)                   0   \n",
       "1            2                      Jumanji (1995)                   0   \n",
       "2            3             Grumpier Old Men (1995)                   0   \n",
       "3            4            Waiting to Exhale (1995)                   0   \n",
       "4            5  Father of the Bride Part II (1995)                   0   \n",
       "...        ...                                 ...                 ...   \n",
       "62418   209157                           We (2018)                   0   \n",
       "62419   209159           Window of the Soul (2001)                   0   \n",
       "62420   209163                    Bad Poems (2018)                   0   \n",
       "62421   209169                 A Girl Thing (2001)                   1   \n",
       "62422   209171      Women of Devil's Island (1962)                   0   \n",
       "\n",
       "       Action  Adventure  Animation  Children  Comedy  Crime  Documentary  \\\n",
       "0           0          1          1         1       1      0            0   \n",
       "1           0          1          0         1       0      0            0   \n",
       "2           0          0          0         0       1      0            0   \n",
       "3           0          0          0         0       1      0            0   \n",
       "4           0          0          0         0       1      0            0   \n",
       "...       ...        ...        ...       ...     ...    ...          ...   \n",
       "62418       0          0          0         0       0      0            0   \n",
       "62419       0          0          0         0       0      0            1   \n",
       "62420       0          0          0         0       1      0            0   \n",
       "62421       0          0          0         0       0      0            0   \n",
       "62422       1          1          0         0       0      0            0   \n",
       "\n",
       "       ...  Film-Noir  Horror  IMAX  Musical  Mystery  Romance  Sci-Fi  \\\n",
       "0      ...          0       0     0        0        0        0       0   \n",
       "1      ...          0       0     0        0        0        0       0   \n",
       "2      ...          0       0     0        0        0        1       0   \n",
       "3      ...          0       0     0        0        0        1       0   \n",
       "4      ...          0       0     0        0        0        0       0   \n",
       "...    ...        ...     ...   ...      ...      ...      ...     ...   \n",
       "62418  ...          0       0     0        0        0        0       0   \n",
       "62419  ...          0       0     0        0        0        0       0   \n",
       "62420  ...          0       0     0        0        0        0       0   \n",
       "62421  ...          0       0     0        0        0        0       0   \n",
       "62422  ...          0       0     0        0        0        0       0   \n",
       "\n",
       "       Thriller  War  Western  \n",
       "0             0    0        0  \n",
       "1             0    0        0  \n",
       "2             0    0        0  \n",
       "3             0    0        0  \n",
       "4             0    0        0  \n",
       "...         ...  ...      ...  \n",
       "62418         0    0        0  \n",
       "62419         0    0        0  \n",
       "62420         0    0        0  \n",
       "62421         0    0        0  \n",
       "62422         0    0        0  \n",
       "\n",
       "[62423 rows x 22 columns]"
      ]
     },
     "execution_count": 13,
     "metadata": {},
     "output_type": "execute_result"
    }
   ],
   "source": [
    "# row = movie, column = genre(featrue)\n",
    "df_genre"
   ]
  },
  {
   "cell_type": "markdown",
   "metadata": {},
   "source": [
    "### pivot table"
   ]
  },
  {
   "cell_type": "code",
   "execution_count": 6,
   "metadata": {
    "scrolled": false
   },
   "outputs": [
    {
     "data": {
      "text/html": [
       "<div>\n",
       "<style scoped>\n",
       "    .dataframe tbody tr th:only-of-type {\n",
       "        vertical-align: middle;\n",
       "    }\n",
       "\n",
       "    .dataframe tbody tr th {\n",
       "        vertical-align: top;\n",
       "    }\n",
       "\n",
       "    .dataframe thead th {\n",
       "        text-align: right;\n",
       "    }\n",
       "</style>\n",
       "<table border=\"1\" class=\"dataframe\">\n",
       "  <thead>\n",
       "    <tr style=\"text-align: right;\">\n",
       "      <th>movieId</th>\n",
       "      <th>1</th>\n",
       "      <th>2</th>\n",
       "      <th>3</th>\n",
       "      <th>4</th>\n",
       "      <th>5</th>\n",
       "      <th>6</th>\n",
       "      <th>7</th>\n",
       "      <th>8</th>\n",
       "      <th>9</th>\n",
       "      <th>10</th>\n",
       "      <th>...</th>\n",
       "      <th>64957</th>\n",
       "      <th>64969</th>\n",
       "      <th>64976</th>\n",
       "      <th>64983</th>\n",
       "      <th>64986</th>\n",
       "      <th>64990</th>\n",
       "      <th>64993</th>\n",
       "      <th>64997</th>\n",
       "      <th>65011</th>\n",
       "      <th>65025</th>\n",
       "    </tr>\n",
       "    <tr>\n",
       "      <th>userId</th>\n",
       "      <th></th>\n",
       "      <th></th>\n",
       "      <th></th>\n",
       "      <th></th>\n",
       "      <th></th>\n",
       "      <th></th>\n",
       "      <th></th>\n",
       "      <th></th>\n",
       "      <th></th>\n",
       "      <th></th>\n",
       "      <th></th>\n",
       "      <th></th>\n",
       "      <th></th>\n",
       "      <th></th>\n",
       "      <th></th>\n",
       "      <th></th>\n",
       "      <th></th>\n",
       "      <th></th>\n",
       "      <th></th>\n",
       "      <th></th>\n",
       "      <th></th>\n",
       "    </tr>\n",
       "  </thead>\n",
       "  <tbody>\n",
       "    <tr>\n",
       "      <th>1</th>\n",
       "      <td>0.0</td>\n",
       "      <td>0.0</td>\n",
       "      <td>0.0</td>\n",
       "      <td>0.0</td>\n",
       "      <td>0.0</td>\n",
       "      <td>0.0</td>\n",
       "      <td>0.0</td>\n",
       "      <td>0.0</td>\n",
       "      <td>0.0</td>\n",
       "      <td>0.0</td>\n",
       "      <td>...</td>\n",
       "      <td>0.0</td>\n",
       "      <td>0.0</td>\n",
       "      <td>0.0</td>\n",
       "      <td>0.0</td>\n",
       "      <td>0.0</td>\n",
       "      <td>0.0</td>\n",
       "      <td>0.0</td>\n",
       "      <td>0.0</td>\n",
       "      <td>0.0</td>\n",
       "      <td>0.0</td>\n",
       "    </tr>\n",
       "    <tr>\n",
       "      <th>2</th>\n",
       "      <td>3.5</td>\n",
       "      <td>0.0</td>\n",
       "      <td>0.0</td>\n",
       "      <td>0.0</td>\n",
       "      <td>0.0</td>\n",
       "      <td>0.0</td>\n",
       "      <td>0.0</td>\n",
       "      <td>0.0</td>\n",
       "      <td>0.0</td>\n",
       "      <td>0.0</td>\n",
       "      <td>...</td>\n",
       "      <td>0.0</td>\n",
       "      <td>0.0</td>\n",
       "      <td>0.0</td>\n",
       "      <td>0.0</td>\n",
       "      <td>0.0</td>\n",
       "      <td>0.0</td>\n",
       "      <td>0.0</td>\n",
       "      <td>0.0</td>\n",
       "      <td>0.0</td>\n",
       "      <td>0.0</td>\n",
       "    </tr>\n",
       "    <tr>\n",
       "      <th>10</th>\n",
       "      <td>3.5</td>\n",
       "      <td>0.0</td>\n",
       "      <td>0.0</td>\n",
       "      <td>0.0</td>\n",
       "      <td>0.0</td>\n",
       "      <td>0.0</td>\n",
       "      <td>0.0</td>\n",
       "      <td>0.0</td>\n",
       "      <td>0.0</td>\n",
       "      <td>0.0</td>\n",
       "      <td>...</td>\n",
       "      <td>0.0</td>\n",
       "      <td>0.0</td>\n",
       "      <td>0.0</td>\n",
       "      <td>0.0</td>\n",
       "      <td>0.0</td>\n",
       "      <td>0.0</td>\n",
       "      <td>0.0</td>\n",
       "      <td>0.0</td>\n",
       "      <td>0.0</td>\n",
       "      <td>0.0</td>\n",
       "    </tr>\n",
       "    <tr>\n",
       "      <th>11</th>\n",
       "      <td>0.0</td>\n",
       "      <td>0.0</td>\n",
       "      <td>0.0</td>\n",
       "      <td>0.0</td>\n",
       "      <td>0.0</td>\n",
       "      <td>0.0</td>\n",
       "      <td>0.0</td>\n",
       "      <td>0.0</td>\n",
       "      <td>0.0</td>\n",
       "      <td>0.0</td>\n",
       "      <td>...</td>\n",
       "      <td>0.0</td>\n",
       "      <td>0.0</td>\n",
       "      <td>0.0</td>\n",
       "      <td>0.0</td>\n",
       "      <td>0.0</td>\n",
       "      <td>0.0</td>\n",
       "      <td>0.0</td>\n",
       "      <td>0.0</td>\n",
       "      <td>0.0</td>\n",
       "      <td>0.0</td>\n",
       "    </tr>\n",
       "    <tr>\n",
       "      <th>12</th>\n",
       "      <td>4.0</td>\n",
       "      <td>0.0</td>\n",
       "      <td>2.0</td>\n",
       "      <td>0.0</td>\n",
       "      <td>0.0</td>\n",
       "      <td>0.0</td>\n",
       "      <td>0.0</td>\n",
       "      <td>0.0</td>\n",
       "      <td>0.0</td>\n",
       "      <td>0.0</td>\n",
       "      <td>...</td>\n",
       "      <td>0.0</td>\n",
       "      <td>0.0</td>\n",
       "      <td>0.0</td>\n",
       "      <td>0.0</td>\n",
       "      <td>0.0</td>\n",
       "      <td>0.0</td>\n",
       "      <td>0.0</td>\n",
       "      <td>0.0</td>\n",
       "      <td>0.0</td>\n",
       "      <td>0.0</td>\n",
       "    </tr>\n",
       "  </tbody>\n",
       "</table>\n",
       "<p>5 rows × 10533 columns</p>\n",
       "</div>"
      ],
      "text/plain": [
       "movieId  1      2      3      4      5      6      7      8      9      10     \\\n",
       "userId                                                                          \n",
       "1          0.0    0.0    0.0    0.0    0.0    0.0    0.0    0.0    0.0    0.0   \n",
       "2          3.5    0.0    0.0    0.0    0.0    0.0    0.0    0.0    0.0    0.0   \n",
       "10         3.5    0.0    0.0    0.0    0.0    0.0    0.0    0.0    0.0    0.0   \n",
       "11         0.0    0.0    0.0    0.0    0.0    0.0    0.0    0.0    0.0    0.0   \n",
       "12         4.0    0.0    2.0    0.0    0.0    0.0    0.0    0.0    0.0    0.0   \n",
       "\n",
       "movieId  ...  64957  64969  64976  64983  64986  64990  64993  64997  65011  \\\n",
       "userId   ...                                                                  \n",
       "1        ...    0.0    0.0    0.0    0.0    0.0    0.0    0.0    0.0    0.0   \n",
       "2        ...    0.0    0.0    0.0    0.0    0.0    0.0    0.0    0.0    0.0   \n",
       "10       ...    0.0    0.0    0.0    0.0    0.0    0.0    0.0    0.0    0.0   \n",
       "11       ...    0.0    0.0    0.0    0.0    0.0    0.0    0.0    0.0    0.0   \n",
       "12       ...    0.0    0.0    0.0    0.0    0.0    0.0    0.0    0.0    0.0   \n",
       "\n",
       "movieId  65025  \n",
       "userId          \n",
       "1          0.0  \n",
       "2          0.0  \n",
       "10         0.0  \n",
       "11         0.0  \n",
       "12         0.0  \n",
       "\n",
       "[5 rows x 10533 columns]"
      ]
     },
     "execution_count": 6,
     "metadata": {},
     "output_type": "execute_result"
    }
   ],
   "source": [
    "# train set을 전처리 : row = userId column = movieId\n",
    "df_train_piv = df_train.pivot(\"userId\",\"movieId\",\"rating\")\n",
    "df_train_piv = df_train_piv.fillna(0)\n",
    "df_train_piv.head()"
   ]
  },
  {
   "cell_type": "code",
   "execution_count": 7,
   "metadata": {},
   "outputs": [
    {
     "data": {
      "text/plain": [
       "(27915, 10533)"
      ]
     },
     "execution_count": 7,
     "metadata": {},
     "output_type": "execute_result"
    }
   ],
   "source": [
    "r_ui = df_train_piv.values\n",
    "r_ui.shape"
   ]
  },
  {
   "cell_type": "code",
   "execution_count": 8,
   "metadata": {},
   "outputs": [],
   "source": [
    "r_ui = r_ui + np.random.normal(1,0.1,(27915,10533))"
   ]
  },
  {
   "cell_type": "markdown",
   "metadata": {},
   "source": [
    "### matrix factorization\n",
    "$\\hat r_{ui} = q_i^Tp_u$\n",
    "* reduced = U * s @ VT 로 분해 = $q_i^Tp_u$"
   ]
  },
  {
   "cell_type": "code",
   "execution_count": 9,
   "metadata": {},
   "outputs": [],
   "source": [
    "# df_train_piv를 svd decomposition\n",
    "U,s,VT = np.linalg.svd(r_ui,compute_uv = True)"
   ]
  },
  {
   "cell_type": "code",
   "execution_count": 10,
   "metadata": {},
   "outputs": [
    {
     "data": {
      "text/plain": [
       "array([[1.13822307, 1.08429764, 0.91162509, ..., 1.21819465, 1.14484936,\n",
       "        0.97557341],\n",
       "       [4.5932748 , 0.87557434, 0.96812457, ..., 0.96302333, 0.99304581,\n",
       "        0.70024033],\n",
       "       [4.42940078, 1.09882449, 0.94404014, ..., 1.02481943, 1.12232117,\n",
       "        0.92607284],\n",
       "       ...,\n",
       "       [1.01300196, 1.11660392, 1.11321395, ..., 0.99266217, 0.8347296 ,\n",
       "        0.95008578],\n",
       "       [5.52658407, 3.56526698, 1.29408844, ..., 0.94261705, 0.80307304,\n",
       "        0.92175267],\n",
       "       [5.04485409, 1.01302555, 1.26539741, ..., 0.93699234, 0.99838062,\n",
       "        0.97767196]])"
      ]
     },
     "execution_count": 10,
     "metadata": {},
     "output_type": "execute_result"
    }
   ],
   "source": [
    "# reduced decomposition \n",
    "r = s.shape[0] - sum(np.allclose(lx,0) for lx in s)\n",
    "reduced = U[:,:r]*s[:r]@VT[:r,:]\n",
    "reduced"
   ]
  },
  {
   "cell_type": "code",
   "execution_count": 40,
   "metadata": {},
   "outputs": [
    {
     "name": "stdout",
     "output_type": "stream",
     "text": [
      "(27915, 10533) (10533, 27915) (10533, 10533)\n"
     ]
    }
   ],
   "source": [
    "rh_ui = reduced\n",
    "q_i = (U[:,:r]*s[:r]).T\n",
    "p_u = VT[:r,:]\n",
    "print(rh_ui.shape, q_i.shape, p_u.shape)"
   ]
  },
  {
   "cell_type": "code",
   "execution_count": 22,
   "metadata": {},
   "outputs": [
    {
     "data": {
      "text/plain": [
       "array([[-1.23243723e-15,  4.51086518e-15, -2.04546032e-15, ...,\n",
       "         2.05001031e-15,  1.24851979e-15, -1.88795174e-17],\n",
       "       [-1.68753900e-14,  2.42742319e-14,  2.31132420e-14, ...,\n",
       "         6.36020946e-16, -1.10439544e-16,  5.49012875e-17],\n",
       "       [-7.10542736e-15,  4.01292939e-15, -2.16728515e-14, ...,\n",
       "         1.29228847e-15, -1.24109809e-16,  3.70255042e-17],\n",
       "       ...,\n",
       "       [-2.19620820e-16,  2.64763970e-18,  5.06239223e-15, ...,\n",
       "         3.33361675e-16,  1.21430643e-16, -5.17503249e-17],\n",
       "       [-3.01980663e-14, -2.66453526e-15, -5.86197757e-14, ...,\n",
       "         1.84564244e-15,  6.65493034e-16, -9.96890016e-17],\n",
       "       [-1.59872116e-14,  5.48199723e-18,  3.72006871e-15, ...,\n",
       "         1.99883767e-15,  2.13155841e-18, -9.56808417e-17]])"
      ]
     },
     "execution_count": 22,
     "metadata": {},
     "output_type": "execute_result"
    }
   ],
   "source": [
    "r_ui - rh_ui"
   ]
  },
  {
   "cell_type": "markdown",
   "metadata": {},
   "source": [
    "### Learning algorithms\n",
    "1. SGD(Stochastic gradient descent)\n",
    "    * prediction error($e_{ui} = r_{ui} - q_i^Tp_u$)를 최소화 하는 parmeter를 gradient descent로 계산\n",
    "    * $q_i \\leftarrow q_i + \\gamma \\centerdot(e_{ui}\\centerdot p_u - \\lambda \\centerdot q_i)$\n",
    "    * $p_u \\leftarrow p_u + \\gamma \\centerdot(e_{ui}\\centerdot q_i - \\lambda \\centerdot p_u)$  "
   ]
  },
  {
   "cell_type": "code",
   "execution_count": 24,
   "metadata": {
    "scrolled": true
   },
   "outputs": [
    {
     "name": "stdout",
     "output_type": "stream",
     "text": [
      "p_u :(10326, 10533) / q_i:(10326, 27915) /r_ui:(27915, 10533)\n"
     ]
    }
   ],
   "source": [
    "print(\"p_u :{} / q_i:{} /r_ui:{}\".format(p_u.shape,q_i.shape,r_ui.shape))"
   ]
  },
  {
   "cell_type": "code",
   "execution_count": 12,
   "metadata": {},
   "outputs": [
    {
     "data": {
      "text/plain": [
       "True"
      ]
     },
     "execution_count": 12,
     "metadata": {},
     "output_type": "execute_result"
    }
   ],
   "source": [
    "np.allclose(q_i.T.dot(p_u),q_i.T@p_u)"
   ]
  },
  {
   "cell_type": "code",
   "execution_count": 18,
   "metadata": {
    "scrolled": true
   },
   "outputs": [
    {
     "data": {
      "text/plain": [
       "389266367.78422046"
      ]
     },
     "execution_count": 18,
     "metadata": {},
     "output_type": "execute_result"
    }
   ],
   "source": [
    "np.vdot(q_i,q_i)"
   ]
  },
  {
   "cell_type": "code",
   "execution_count": 29,
   "metadata": {},
   "outputs": [
    {
     "data": {
      "text/plain": [
       "19729.834459118898"
      ]
     },
     "execution_count": 29,
     "metadata": {},
     "output_type": "execute_result"
    }
   ],
   "source": [
    "np.linalg.norm(q_i)"
   ]
  },
  {
   "cell_type": "code",
   "execution_count": 30,
   "metadata": {},
   "outputs": [
    {
     "data": {
      "text/plain": [
       "102.63040485158396"
      ]
     },
     "execution_count": 30,
     "metadata": {},
     "output_type": "execute_result"
    }
   ],
   "source": [
    "np.linalg.norm(p_u)"
   ]
  },
  {
   "cell_type": "code",
   "execution_count": 32,
   "metadata": {
    "scrolled": true
   },
   "outputs": [
    {
     "data": {
      "text/plain": [
       "-122.39298677185161"
      ]
     },
     "execution_count": 32,
     "metadata": {},
     "output_type": "execute_result"
    }
   ],
   "source": [
    "np.sum(p_u)"
   ]
  },
  {
   "cell_type": "code",
   "execution_count": 41,
   "metadata": {},
   "outputs": [],
   "source": [
    "gmma = 0.01 \n",
    "lmda = 0.1\n",
    "epoch = 10"
   ]
  },
  {
   "cell_type": "code",
   "execution_count": 42,
   "metadata": {
    "scrolled": true
   },
   "outputs": [
    {
     "name": "stdout",
     "output_type": "stream",
     "text": [
      "epoch : 1 / datetime : 2020-09-08 20:29:21.930314 / loss : 38927690.07842355\n",
      "epoch : 2 / datetime : 2020-09-08 20:31:14.633911 / loss : 38851429.13475191\n",
      "epoch : 3 / datetime : 2020-09-08 20:33:00.986715 / loss : 146093422292.15308\n"
     ]
    }
   ],
   "source": [
    "for _ in range(1,epoch+1) :\n",
    "    \n",
    "    rh_ui = q_i.T@p_u\n",
    "    \n",
    "    err_ui = np.square(r_ui - rh_ui) \n",
    "    \n",
    "    reg_err = np.sum(err_ui) + lmda*(np.linalg.norm(q_i)**2 + np.linalg.norm(p_u)**2)\n",
    "    \n",
    "    new_q_i = q_i + gmma*((p_u@err_ui.T) - (lmda * q_i))\n",
    "    new_p_u = p_u + gmma*((q_i@err_ui) - (lmda * p_u))\n",
    "    \n",
    "    q_i,p_u = new_q_i, new_p_u\n",
    "    \n",
    "    print(\"epoch : {} / datetime : {} / loss : {}\".format( _, datetime.now(), reg_err))\n",
    "    if _ == 3 : break"
   ]
  },
  {
   "cell_type": "code",
   "execution_count": 34,
   "metadata": {},
   "outputs": [
    {
     "data": {
      "text/plain": [
       "array([[nan, nan, nan, ..., nan, nan, nan],\n",
       "       [nan, nan, nan, ..., nan, nan, nan],\n",
       "       [nan, nan, nan, ..., nan, nan, nan],\n",
       "       ...,\n",
       "       [nan, nan, nan, ..., nan, nan, nan],\n",
       "       [nan, nan, nan, ..., nan, nan, nan],\n",
       "       [nan, nan, nan, ..., nan, nan, nan]])"
      ]
     },
     "execution_count": 34,
     "metadata": {},
     "output_type": "execute_result"
    }
   ],
   "source": [
    "rh_ui"
   ]
  },
  {
   "cell_type": "code",
   "execution_count": 51,
   "metadata": {},
   "outputs": [
    {
     "name": "stdout",
     "output_type": "stream",
     "text": [
      "epoch : 1 / datetime : 2020-09-07 22:51:43.231945 / loss : 5.1958576647576585e-06\n",
      "epoch : 2 / datetime : 2020-09-07 22:53:02.268791 / loss : -0.8080726455339313\n",
      "epoch : 3 / datetime : 2020-09-07 22:54:13.525764 / loss : 117675.31203260839\n",
      "epoch : 4 / datetime : 2020-09-07 22:55:23.679067 / loss : -17010612499.43176\n",
      "epoch : 5 / datetime : 2020-09-07 22:56:25.369968 / loss : 2457107338023401.0\n",
      "epoch : 6 / datetime : 2020-09-07 22:57:26.965880 / loss : -3.5489127834942616e+20\n",
      "epoch : 7 / datetime : 2020-09-07 22:58:30.797872 / loss : 5.1258190563473486e+25\n",
      "epoch : 8 / datetime : 2020-09-07 22:59:30.796127 / loss : -7.403394583886157e+30\n",
      "epoch : 9 / datetime : 2020-09-07 23:00:31.305635 / loss : 1.0692973515749352e+36\n",
      "epoch : 10 / datetime : 2020-09-07 23:01:33.655857 / loss : -1.544422366072582e+41\n"
     ]
    }
   ],
   "source": [
    "for _ in range(1,epoch+1) :\n",
    "    rh_ui = q_i.T@p_u\n",
    "    \n",
    "    err_ui = np.square(r_ui - rh_ui)                               \n",
    "    \n",
    "    p_u = p_u + gmma*((q_i@err_ui) - (lmda * p_u))\n",
    "    \n",
    "    print(\"epoch : {} / datetime : {} / loss : {}\".format(_,datetime.now(), err_ui.sum()))"
   ]
  },
  {
   "cell_type": "markdown",
   "metadata": {},
   "source": [
    "2. ALS(Alternating least squares)"
   ]
  },
  {
   "cell_type": "code",
   "execution_count": 44,
   "metadata": {},
   "outputs": [
    {
     "data": {
      "text/plain": [
       "(27915, 10326)"
      ]
     },
     "execution_count": 44,
     "metadata": {},
     "output_type": "execute_result"
    }
   ],
   "source": [
    "(err_ui@p_u.T).shape"
   ]
  },
  {
   "cell_type": "code",
   "execution_count": null,
   "metadata": {},
   "outputs": [],
   "source": [
    "(np.dot(p_u.T,err_ui)).shape"
   ]
  },
  {
   "cell_type": "code",
   "execution_count": 53,
   "metadata": {},
   "outputs": [
    {
     "data": {
      "text/plain": [
       "array([[ 1,  4],\n",
       "       [ 9, 16]])"
      ]
     },
     "execution_count": 53,
     "metadata": {},
     "output_type": "execute_result"
    }
   ],
   "source": [
    "np.square(np.array([[1,2],[3,4]]))"
   ]
  },
  {
   "cell_type": "code",
   "execution_count": null,
   "metadata": {},
   "outputs": [],
   "source": []
  }
 ],
 "metadata": {
  "kernelspec": {
   "display_name": "Python 3",
   "language": "python",
   "name": "python3"
  },
  "language_info": {
   "codemirror_mode": {
    "name": "ipython",
    "version": 3
   },
   "file_extension": ".py",
   "mimetype": "text/x-python",
   "name": "python",
   "nbconvert_exporter": "python",
   "pygments_lexer": "ipython3",
   "version": "3.8.3"
  }
 },
 "nbformat": 4,
 "nbformat_minor": 4
}
