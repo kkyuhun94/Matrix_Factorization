{
 "cells": [
  {
   "cell_type": "code",
   "execution_count": 6,
   "metadata": {},
   "outputs": [],
   "source": [
    "movieRating = np.array([1,1,1,0,0,3,3,3,0,0,4,4,4,0,0,5,5,5,0,0,0,0,0,4,4,0,0,0,5,5,0,0,0,2,2]).reshape((7,5))"
   ]
  },
  {
   "cell_type": "code",
   "execution_count": 7,
   "metadata": {},
   "outputs": [
    {
     "data": {
      "text/plain": [
       "array([[1, 1, 1, 0, 0],\n",
       "       [3, 3, 3, 0, 0],\n",
       "       [4, 4, 4, 0, 0],\n",
       "       [5, 5, 5, 0, 0],\n",
       "       [0, 0, 0, 4, 4],\n",
       "       [0, 0, 0, 5, 5],\n",
       "       [0, 0, 0, 2, 2]])"
      ]
     },
     "execution_count": 7,
     "metadata": {},
     "output_type": "execute_result"
    }
   ],
   "source": [
    "movieRating"
   ]
  },
  {
   "cell_type": "code",
   "execution_count": 3,
   "metadata": {},
   "outputs": [],
   "source": [
    "import numpy as np"
   ]
  },
  {
   "cell_type": "code",
   "execution_count": 8,
   "metadata": {},
   "outputs": [],
   "source": [
    "U,s,VT = np.linalg.svd(movieRating)"
   ]
  },
  {
   "cell_type": "code",
   "execution_count": 9,
   "metadata": {},
   "outputs": [
    {
     "data": {
      "text/plain": [
       "array([[-1.40028008e-01,  3.11296961e-33, -9.33556251e-17,\n",
       "        -9.90147543e-01, -7.22035540e-17, -1.66064546e-17,\n",
       "         9.81734789e-20],\n",
       "       [-4.20084025e-01,  3.78344740e-33, -1.13462752e-16,\n",
       "         5.94088526e-02,  9.05538514e-01,  3.34120279e-17,\n",
       "        -4.90523311e-18],\n",
       "       [-5.60112034e-01,  2.50159817e-17, -7.50210540e-01,\n",
       "         7.92118034e-02, -2.65035663e-01,  2.14669986e-01,\n",
       "        -2.92752636e-02],\n",
       "       [-7.00140042e-01, -2.00127854e-17,  6.00168432e-01,\n",
       "         9.90147543e-02, -3.31294578e-01, -1.71735989e-01,\n",
       "         2.34202108e-02],\n",
       "       [ 0.00000000e+00, -5.96284794e-01, -1.84970868e-01,\n",
       "         0.00000000e+00,  0.00000000e+00, -6.95046826e-01,\n",
       "        -3.56567149e-01],\n",
       "       [ 0.00000000e+00, -7.45355992e-01,  1.84970868e-01,\n",
       "         0.00000000e+00,  0.00000000e+00,  6.34618142e-01,\n",
       "        -8.65449974e-02],\n",
       "       [ 0.00000000e+00, -2.98142397e-01, -9.24854342e-02,\n",
       "         0.00000000e+00,  0.00000000e+00, -1.96451702e-01,\n",
       "         9.29496791e-01]])"
      ]
     },
     "execution_count": 9,
     "metadata": {},
     "output_type": "execute_result"
    }
   ],
   "source": [
    "U"
   ]
  },
  {
   "cell_type": "code",
   "execution_count": 10,
   "metadata": {},
   "outputs": [
    {
     "data": {
      "text/plain": [
       "array([[-0.57735027, -0.57735027, -0.57735027,  0.        ,  0.        ],\n",
       "       [-0.        , -0.        , -0.        , -0.70710678, -0.70710678],\n",
       "       [ 0.        ,  0.        ,  0.        , -0.70710678,  0.70710678],\n",
       "       [ 0.81649658, -0.40824829, -0.40824829,  0.        ,  0.        ],\n",
       "       [ 0.        , -0.70710678,  0.70710678,  0.        ,  0.        ]])"
      ]
     },
     "execution_count": 10,
     "metadata": {},
     "output_type": "execute_result"
    }
   ],
   "source": [
    "VT"
   ]
  }
 ],
 "metadata": {
  "kernelspec": {
   "display_name": "Python 3",
   "language": "python",
   "name": "python3"
  },
  "language_info": {
   "codemirror_mode": {
    "name": "ipython",
    "version": 3
   },
   "file_extension": ".py",
   "mimetype": "text/x-python",
   "name": "python",
   "nbconvert_exporter": "python",
   "pygments_lexer": "ipython3",
   "version": "3.8.3"
  }
 },
 "nbformat": 4,
 "nbformat_minor": 4
}
